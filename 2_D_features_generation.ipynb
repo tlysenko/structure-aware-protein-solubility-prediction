{
  "nbformat": 4,
  "nbformat_minor": 0,
  "metadata": {
    "colab": {
      "name": "2-D features generation.ipynb",
      "provenance": [],
      "collapsed_sections": [],
      "machine_shape": "hm",
      "mount_file_id": "1lQ3ShuT1HO5RjfnYZwXfouQsR7I5myi1",
      "authorship_tag": "ABX9TyN/3S9fnNtEY+wAsueXglFh",
      "include_colab_link": true
    },
    "kernelspec": {
      "name": "python3",
      "display_name": "Python 3"
    },
    "language_info": {
      "name": "python"
    },
    "accelerator": "GPU"
  },
  "cells": [
    {
      "cell_type": "markdown",
      "metadata": {
        "id": "view-in-github",
        "colab_type": "text"
      },
      "source": [
        "<a href=\"https://colab.research.google.com/github/tlysenko/structure-aware-protein-solubility-prediction/blob/main/2_D_features_generation.ipynb\" target=\"_parent\"><img src=\"https://colab.research.google.com/assets/colab-badge.svg\" alt=\"Open In Colab\"/></a>"
      ]
    },
    {
      "cell_type": "markdown",
      "metadata": {
        "id": "LMmH9CdsYD7B"
      },
      "source": [
        "### Installing packages"
      ]
    },
    {
      "cell_type": "code",
      "metadata": {
        "id": "Y3pZpdd5YBU0"
      },
      "source": [
        "!pip install Bio"
      ],
      "execution_count": null,
      "outputs": []
    },
    {
      "cell_type": "markdown",
      "metadata": {
        "id": "llmHLlhoLmOD"
      },
      "source": [
        "### Importing the libraries"
      ]
    },
    {
      "cell_type": "code",
      "metadata": {
        "id": "IobwPMmrLoNT",
        "colab": {
          "base_uri": "https://localhost:8080/"
        },
        "outputId": "d774903a-f315-4157-d1a8-066759f02263"
      },
      "source": [
        "import os\n",
        "\n",
        "import pandas as pd\n",
        "import numpy as np\n",
        "from Bio import SeqIO\n",
        "import os\n",
        "import io\n",
        "import requests as r\n",
        "\n",
        "%tensorflow_version 1.x\n",
        "import tensorflow  \n",
        "import tqdm\n",
        "import pickle\n",
        "import stat"
      ],
      "execution_count": 1,
      "outputs": [
        {
          "output_type": "stream",
          "text": [
            "TensorFlow 1.x selected.\n"
          ],
          "name": "stdout"
        }
      ]
    },
    {
      "cell_type": "markdown",
      "metadata": {
        "id": "_RFDfQ1pKS01"
      },
      "source": [
        "### File Downloads"
      ]
    },
    {
      "cell_type": "code",
      "metadata": {
        "id": "mNOAJheLL8gi"
      },
      "source": [
        "# Copy github repo of the hachathon\n",
        "#os.chdir('/content/drive/MyDrive/Colab Notebooks/Solubility-tool')\n",
        "#!git clone https://github.com/ProteinQure/cbh21-protein-solubility-challenge"
      ],
      "execution_count": 60,
      "outputs": []
    },
    {
      "cell_type": "code",
      "metadata": {
        "id": "P07AubEcMH22"
      },
      "source": [
        "# SPOT-Contact folder\n",
        "#!wget https://servers.sparks-lab.org/downloads/SPOT-Contact_local.tgz\n",
        "#!tar -xvf 'SPOT-Contact_local.tgz' -C '/content/drive/MyDrive/Colab Notebooks/Solubility-tool'\n",
        "\n",
        "#wget https://servers.sparks-lab.org/downloads/SPIDER3-Single_np.tgz\n",
        "#!tar -xvf 'SPIDER3-Single_np.tgz' -C '/content/drive/MyDrive/Colab Notebooks/Solubility-tool'"
      ],
      "execution_count": null,
      "outputs": []
    },
    {
      "cell_type": "code",
      "metadata": {
        "id": "XpA8BKs_t9Gk"
      },
      "source": [
        "#PSIBLAST \n",
        "#https://ftp.ncbi.nlm.nih.gov/blast/executables/blast+/LATEST/\n",
        "#https://www.ncbi.nlm.nih.gov/books/NBK52640/\n",
        "#!wget https://ftp.ncbi.nlm.nih.gov/blast/executables/blast+/LATEST/ncbi-blast-2.11.0+-x64-linux.tar.gz\n",
        "#!tar -xvf 'ncbi-blast-2.11.0+-src.tar.gz' -C '/content/drive/MyDrive/ColabNotebooks/Solubility-tool'"
      ],
      "execution_count": null,
      "outputs": []
    },
    {
      "cell_type": "code",
      "metadata": {
        "id": "U72wDegluHX5"
      },
      "source": [
        ""
      ],
      "execution_count": null,
      "outputs": []
    },
    {
      "cell_type": "markdown",
      "metadata": {
        "id": "TYZpC6DGXnIW"
      },
      "source": [
        "### PDB to FASTA"
      ]
    },
    {
      "cell_type": "code",
      "metadata": {
        "id": "Nwz2zqF2Rc9U"
      },
      "source": [
        "root = '/content/drive/MyDrive/ColabNotebooks/Solubility-tool/cbh21-protein-solubility-challenge/data/'"
      ],
      "execution_count": 24,
      "outputs": []
    },
    {
      "cell_type": "code",
      "metadata": {
        "id": "CHxK9YJ9SOZl"
      },
      "source": [
        "def get_fasta_pdb(path):\n",
        "  ids = []\n",
        "  seqs = []\n",
        "\n",
        "  for (dirpath, dirnames, filenames) in os.walk(path):\n",
        "      for filename in filenames:\n",
        "          if filename.split(\".\")[1] == \"pdb\":\n",
        "              ids.append(filename.split(\".\")[0])\n",
        "              seq_ = SeqIO.parse(dirpath + filename, 'pdb-seqres')\n",
        "              for i in seq_:\n",
        "                  seq = str(i.seq)\n",
        "                  if seq:\n",
        "                    seqs.append(seq)\n",
        "                    break\n",
        "\n",
        "  if not seqs:\n",
        "        seqs = get_fasta_up(ids)\n",
        "\n",
        "  return ids, seqs\n",
        "\n",
        "def get_fasta_up(list_): # list of file ids\n",
        "  baseUrl=\"http://www.uniprot.org/uniprot/\"\n",
        "  seqs = []\n",
        "  for cID in list_:\n",
        "    currentUrl=baseUrl+cID+\".fasta\"\n",
        "    response = r.post(currentUrl)\n",
        "    cData=''.join(response.text)\n",
        "    Seq=io.StringIO(cData)\n",
        "    pSeq=list(SeqIO.parse(Seq,'fasta'))\n",
        "    try:\n",
        "      seqs.append(str(pSeq[0].seq))\n",
        "    except:\n",
        "      seqs.append(None)\n",
        "  return seqs"
      ],
      "execution_count": 25,
      "outputs": []
    },
    {
      "cell_type": "code",
      "metadata": {
        "id": "3xDiRlQfYbnC"
      },
      "source": [
        "ecid, ecseq = get_fasta_pdb(root + \"/training/crystal_structs/\")\n",
        "ycid, ycseq = get_fasta_pdb(root + \"/test/yeast_crystal_structs/\")"
      ],
      "execution_count": 26,
      "outputs": []
    },
    {
      "cell_type": "code",
      "metadata": {
        "id": "OkTByIRPYdk7"
      },
      "source": [
        "emid, emseq = get_fasta_pdb(root + \"/test/ecoli_modelled_structs/\")\n",
        "ymid, ymseq = get_fasta_pdb(root + \"/test/yeast_modelled_structs/\")"
      ],
      "execution_count": 27,
      "outputs": []
    },
    {
      "cell_type": "code",
      "metadata": {
        "id": "uwKv_bUfYfKW",
        "colab": {
          "base_uri": "https://localhost:8080/"
        },
        "outputId": "185be5f3-05ef-4025-e93a-0708ab461bf7"
      },
      "source": [
        "print(len(ecid), len(ecseq))\n",
        "print(len(emid), len(emseq))\n",
        "print(len(ycid), len(ycseq))\n",
        "print(len(ymid), len(ymseq))\n"
      ],
      "execution_count": 28,
      "outputs": [
        {
          "output_type": "stream",
          "text": [
            "406 406\n",
            "550 550\n",
            "59 59\n",
            "50 50\n"
          ],
          "name": "stdout"
        }
      ]
    },
    {
      "cell_type": "markdown",
      "metadata": {
        "id": "JwMKVFPKolxM"
      },
      "source": [
        "### Make Fasta files"
      ]
    },
    {
      "cell_type": "code",
      "metadata": {
        "id": "ajsJhC7yoobN"
      },
      "source": [
        "train_id = ecid\n",
        "train_seq = ecseq\n",
        "\n",
        "test_id = emid + ycid + ymid\n",
        "test_seq = emseq + ycseq + ymseq\n",
        "\n",
        "df_train = pd.DataFrame()\n",
        "df_train[\"id\"] = train_id\n",
        "df_train[\"seq\"] = train_seq\n",
        "\n",
        "df_test = pd.DataFrame()\n",
        "df_test[\"id\"] = test_id\n",
        "df_test[\"seq\"] = test_seq"
      ],
      "execution_count": 29,
      "outputs": []
    },
    {
      "cell_type": "code",
      "metadata": {
        "id": "UHA91qjAowBz"
      },
      "source": [
        "root = '/content/drive/MyDrive/ColabNotebooks/Solubility-tool/cbh21-protein-solubility-challenge/data/'\n",
        "for i in range(df_train.shape[0]):\n",
        "  id = \">pdb:\" + df_train.loc[i, \"id\"]\n",
        "  seq = df_train.loc[i, \"seq\"]\n",
        "  with open(root + f'fasta_train/{df_train.loc[i, \"id\"]}.fasta', 'w') as file:\n",
        "    file.write(f\"{id}\\n{seq}\")"
      ],
      "execution_count": 34,
      "outputs": []
    },
    {
      "cell_type": "code",
      "metadata": {
        "id": "RrTj4dRwoyVa"
      },
      "source": [
        "for i in range(df_test.shape[0]):\n",
        "  id = \">pdb:\" + df_test.loc[i, \"id\"]\n",
        "  seq = df_test.loc[i, \"seq\"]\n",
        "  with open(root + f'fasta_test/{df_test.loc[i, \"id\"]}.fasta', 'w') as file:\n",
        "    file.write(f\"{id}\\n{seq}\")"
      ],
      "execution_count": 35,
      "outputs": []
    },
    {
      "cell_type": "markdown",
      "metadata": {
        "id": "JM566fkaDIkq"
      },
      "source": [
        "### Test run SPOT-Contact "
      ]
    },
    {
      "cell_type": "code",
      "metadata": {
        "id": "9tymYaQ-2PBR"
      },
      "source": [
        "def change_permissions_recursive(path, mode):\n",
        "    for root, dirs, files in os.walk(path, topdown=False):\n",
        "        for dir in [os.path.join(root,d) for d in dirs]:\n",
        "            os.chmod(dir, mode)\n",
        "    for file in [os.path.join(root, f) for f in files]:\n",
        "            os.chmod(file, mode)\n",
        "\n",
        "fff = '/content/drive/MyDrive/ColabNotebooks/Solubility-tool/SPOT-Contact-Helical-New/sources/CCMpred' \n",
        "change_permissions_recursive(fff, 0o777)"
      ],
      "execution_count": 26,
      "outputs": []
    },
    {
      "cell_type": "code",
      "metadata": {
        "id": "fen235G82ui3"
      },
      "source": [
        "file = '/content/drive/MyDrive/ColabNotebooks/Solubility-tool/SPOT-Contact-Helical-New/sources/CCMpred/calCCMpred.sh'\n",
        "os.chmod(file, 0o777)"
      ],
      "execution_count": 24,
      "outputs": []
    },
    {
      "cell_type": "code",
      "metadata": {
        "colab": {
          "base_uri": "https://localhost:8080/"
        },
        "id": "nFb6cDSBqxlN",
        "outputId": "a2791605-535b-45e5-afad-7a8b784260de"
      },
      "source": [
        "# Go, go baby!\n",
        "os.chdir('/content/drive/MyDrive/ColabNotebooks/Solubility-tool/SPOT-Contact-Helical-New/')\n",
        "\n",
        "!sh 'run_spotcontacthelical.sh'"
      ],
      "execution_count": 27,
      "outputs": [
        {
          "output_type": "stream",
          "text": [
            "Protein: tmp\n",
            "Generating PSSM...\n",
            "uuuuiiii: /content/drive/MyDrive/ColabNotebooks/Solubility-tool/ncbi-blast-2.11.0+\n",
            "Generating HHblits outputs...\n",
            "Generating SPIDER3 outputs...\n",
            "Generating CCMPRED outputs...\n",
            "Generating DCA outputs...\n",
            "Protein: P00445\n",
            "Generating PSSM...\n",
            "uuuuiiii: /content/drive/MyDrive/ColabNotebooks/Solubility-tool/ncbi-blast-2.11.0+\n",
            "run_spotcontacthelical.sh: 32: run_spotcontacthelical.sh: /content/drive/MyDrive/ColabNotebooks/Solubility-tool/ncbi-blast-2.11.0+: Permission denied\n",
            "Generating HHblits outputs...\n",
            "run_spotcontacthelical.sh: 34: run_spotcontacthelical.sh: hhblits: not found\n",
            "Generating SPIDER3 outputs...\n",
            "run_spotcontacthelical.sh: 37: run_spotcontacthelical.sh: /content/drive/MyDrive/ColabNotebooks/Solubility-tool/SPIDER3-Single_np/script/spider3_pred.py: not found\n",
            "Generating CCMPRED outputs...\n",
            "  File \"sources/CCMpred/a3m_to_ali.py\", line 9\n",
            "    print x.seq\n",
            "          ^\n",
            "SyntaxError: Missing parentheses in call to 'print'. Did you mean print(x.seq)?\n",
            "sources/CCMpred/calCCMpred.sh: line 8: ccmpred: command not found\n",
            "sed: can't read P00445.mat: No such file or directory\n",
            "Generating DCA outputs...\n",
            "Features collected! Running SPOT-Contact...\n",
            "  0% 0/6 [00:00<?, ?it/s]WARNING:tensorflow:From /content/drive/MyDrive/ColabNotebooks/Solubility-tool/SPOT-Contact-Helical-New/scripts/spotcontacthelical.py:124: The name tf.ConfigProto is deprecated. Please use tf.compat.v1.ConfigProto instead.\n",
            "\n",
            "WARNING:tensorflow:From /content/drive/MyDrive/ColabNotebooks/Solubility-tool/SPOT-Contact-Helical-New/scripts/spotcontacthelical.py:128: The name tf.train.import_meta_graph is deprecated. Please use tf.compat.v1.train.import_meta_graph instead.\n",
            "\n",
            "WARNING:tensorflow:From /content/drive/MyDrive/ColabNotebooks/Solubility-tool/SPOT-Contact-Helical-New/scripts/spotcontacthelical.py:129: The name tf.Session is deprecated. Please use tf.compat.v1.Session instead.\n",
            "\n",
            "WARNING:tensorflow:From /content/drive/MyDrive/ColabNotebooks/Solubility-tool/SPOT-Contact-Helical-New/scripts/spotcontacthelical.py:131: The name tf.get_collection is deprecated. Please use tf.compat.v1.get_collection instead.\n",
            "\n",
            "Traceback (most recent call last):\n",
            "  File \"/content/drive/MyDrive/ColabNotebooks/Solubility-tool/SPOT-Contact-Helical-New/scripts/run_all_models.py\", line 48, in <module>\n",
            "    spotcontacthelical.model_pass(protein_ids,i,args)\n",
            "  File \"/content/drive/MyDrive/ColabNotebooks/Solubility-tool/SPOT-Contact-Helical-New/scripts/spotcontacthelical.py\", line 137, in model_pass\n",
            "    input_oneD,input_twoD,protlen,seq_lens,mask = obtain_feats(i,normmu_1D,normmu_2D,normstd_1D,normstd_2D,args.input_dir)  \n",
            "  File \"/content/drive/MyDrive/ColabNotebooks/Solubility-tool/SPOT-Contact-Helical-New/scripts/spotcontacthelical.py\", line 94, in obtain_feats\n",
            "    tmp_feats = i[2](input_dir+'inputs/'+prot_id+i[0],seq)\n",
            "  File \"/content/drive/MyDrive/ColabNotebooks/Solubility-tool/SPOT-Contact-Helical-New/scripts/spotcontacthelical.py\", line 17, in read_pssm\n",
            "    with open(fname,'r') as f:\n",
            "FileNotFoundError: [Errno 2] No such file or directory: 'inputs/P00445.pssm'\n",
            "  0% 0/6 [00:12<?, ?it/s]\n"
          ],
          "name": "stdout"
        }
      ]
    },
    {
      "cell_type": "code",
      "metadata": {
        "colab": {
          "base_uri": "https://localhost:8080/"
        },
        "id": "VeeEomb6q0_7",
        "outputId": "e7b63396-68cf-4afc-84d5-db9bb7ab4bb4"
      },
      "source": [
        "!ls /content/drive/MyDrive/ColabNotebooks/Solubility-tool/ncbi-blast-2.11.0+"
      ],
      "execution_count": 28,
      "outputs": [
        {
          "output_type": "stream",
          "text": [
            "bin  ChangeLog\tdoc  LICENSE  ncbi_package_info  README\n"
          ],
          "name": "stdout"
        }
      ]
    },
    {
      "cell_type": "code",
      "metadata": {
        "id": "Eo9oL0bDs0gK"
      },
      "source": [
        ""
      ],
      "execution_count": null,
      "outputs": []
    }
  ]
}